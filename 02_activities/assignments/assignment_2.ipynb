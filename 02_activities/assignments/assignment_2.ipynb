{
 "cells": [
  {
   "cell_type": "markdown",
   "metadata": {},
   "source": [
    "# Practice Interview\n",
    "\n",
    "## Objective\n",
    "\n",
    "_*The partner assignment aims to provide participants with the opportunity to practice coding in an interview context. You will analyze your partner's Assignment 1. Moreover, code reviews are common practice in a software development team. This assignment should give you a taste of the code review process.*_\n",
    "\n",
    "## Group Size\n",
    "\n",
    "Each group should have 2 people. You will be assigned a partner\n",
    "\n",
    "## Part 1:\n",
    "\n",
    "You and your partner must share each other's Assignment 1 submission."
   ]
  },
  {
   "cell_type": "markdown",
   "metadata": {},
   "source": [
    "\n",
    "## Part 2:\n",
    "\n",
    "Create a Jupyter Notebook, create 6 of the following headings, and complete the following for your partner's assignment 1:\n",
    "\n",
    "-   Paraphrase the problem in your own words.\n"
   ]
  },
  {
   "cell_type": "markdown",
   "metadata": {},
   "source": [
    "### Paraphrase of the problem"
   ]
  },
  {
   "cell_type": "code",
   "execution_count": null,
   "metadata": {},
   "outputs": [],
   "source": [
    "# Your answer here\n",
    "# The objective of the problem is to write a code that traverses a binary tree and returns all the paths from the root to the leaves.  \n",
    "# The output of the paths can be in any order."
   ]
  },
  {
   "cell_type": "markdown",
   "metadata": {},
   "source": [
    "### One new example and review of partner example"
   ]
  },
  {
   "cell_type": "code",
   "execution_count": null,
   "metadata": {},
   "outputs": [],
   "source": [
    "# Your answer here\n",
    "#one new example: \n",
    "#Input root = [1,5,3,8,4,8]\n",
    "#Output = [[1,5,8],[1,5,4],[1,3,8]\n",
    "\n",
    "#partner example:\n",
    "#Tree # 1 ->\n",
    "#[1,  2, 3 , 4 , 5, 6 , 7]\n",
    "#            1\n",
    "#         /     \\\n",
    "#        2       3\n",
    "#       / \\     / \\\n",
    "#      4   5    6  7\n",
    "#Looking at the tree for my partner's example, the first path would be done the left [1,2,4]\n",
    "#The second path would be [1,2,5]\n",
    "#The third, starting at the root and going right [1,3,6]\n",
    "#and the final path would be [1,3,7]"
   ]
  },
  {
   "cell_type": "markdown",
   "metadata": {},
   "source": [
    "### Partner solution code"
   ]
  },
  {
   "cell_type": "code",
   "execution_count": null,
   "metadata": {},
   "outputs": [],
   "source": [
    "# Your answer here\n",
    "# Step 2\n",
    "# As per the instructions, the input is a list. I have to first convert the list to a tree\n",
    "\n",
    "from collections import deque\n",
    "from typing import List, Optional\n",
    "\n",
    "\n",
    "def list_to_tree(lst: list[Optional[int]]) -> Optional[TreeNode]:\n",
    "    if not lst or lst[0] is None:\n",
    "        return None  # Empty tree case\n",
    "\n",
    "    root = TreeNode(lst[0])  # Create the root\n",
    "    queue = deque([root])  # Queue for level-order insertion\n",
    "    i = 1  # Index in the list\n",
    "\n",
    "    while i < len(lst):\n",
    "        node = queue.popleft()  # Get the current parent node\n",
    "\n",
    "        # Assign left child\n",
    "        if i < len(lst) and lst[i] is not None:\n",
    "            node.left = TreeNode(lst[i])\n",
    "            queue.append(node.left)\n",
    "        i += 1\n",
    "\n",
    "        # Assign right child\n",
    "        if i < len(lst) and lst[i] is not None:\n",
    "            node.right = TreeNode(lst[i])\n",
    "            queue.append(node.right)\n",
    "        i += 1\n",
    "\n",
    "    return root  # Return the tree root\n",
    "\n",
    "# Step 3: Recursive method for Depth first search  \n",
    "def bt_path(root: TreeNode) -> list[list[int]]:\n",
    "  # TODO\n",
    "  def dfs(node, path, result): #base case\n",
    "    if not node: \n",
    "        return\n",
    "    path.append(str(node.val))  # Append current node value to path\n",
    "    if not node.left and not node.right:  # If it's a leaf, add path to result, node.left and node.right will both return false for a leaf node\n",
    "        #result.append(\"->\".join(path)) #End search\n",
    "        #print(tuple(path))\n",
    "        result.append(tuple(path))\n",
    "    else:\n",
    "        dfs(node.left, path[:], result)  # Recursion for left subtree\n",
    "        dfs(node.right, path[:], result)  # Recursion for right subtree\n",
    "    path.pop()  # Backtrack\n",
    "\n",
    "  result = []\n",
    "  dfs(root, [], result)\n",
    "  return result\n",
    "\n",
    "# Step 1: Convert list to binary tree\n",
    "tree_list = [1, 2, 2, 3, 5, 6, 7] # Example from above\n",
    "root = list_to_tree(tree_list)\n",
    "\n",
    "# Step 2: Run DFS to get all root-to-leaf paths\n",
    "paths = bt_path(root)\n",
    "\n",
    "# Step 3: Print result\n",
    "print(paths)  # Expected Output: ['1->2->5', '1->3']"
   ]
  },
  {
   "cell_type": "markdown",
   "metadata": {},
   "source": [
    "### Explanation of partner code"
   ]
  },
  {
   "cell_type": "code",
   "execution_count": null,
   "metadata": {},
   "outputs": [],
   "source": [
    "# Your answer here\n",
    "# Their solution works because they first converted the binary tree into a queue data structure.  This is done to enable the implementation of a \n",
    "#traversing method.\n",
    "#The next step was to implement the depth first search which we know can be implemented using recursion.  Inside of completing the search for a \n",
    "#complete result, the search was stop at a leaf, the path recorded, and then the search started again at the previous root until all nodes have been \n",
    "#traversed."
   ]
  },
  {
   "cell_type": "markdown",
   "metadata": {},
   "source": [
    "### Partner solution time and space complexity\n"
   ]
  },
  {
   "cell_type": "code",
   "execution_count": null,
   "metadata": {},
   "outputs": [],
   "source": [
    "# Your answer here\n",
    "#The DFS function is called on each node of the tree.  Worst case, each node is visited.  Therefore time complexity for tranversing is O(N).\n",
    "#The path[:] operation creates a copy of the current path and the longest this will be is the height of the tree O(H).  This equates to O(logN) for a \n",
    "#balanced tree and O(N) for a skewed tree.\n",
    "#Therefore the time complexity for a balanced tree is O(NlogN) and O(N^2) for a skewed tree.\n",
    "#\n",
    "#For space complexity, the max depth is the height of the tree O(H).  As from before, This equates to O(logN) for a \n",
    "#balanced tree and O(N) for a skewed tree.\n",
    "#For the path storage, there are O(N) paths in a binary tree.  The longest path is O(H).  Therefore we have O(N*H).\n",
    "#Combining, this results for a balanced tree O(NlogN) and O(N^2) for a skewed tree"
   ]
  },
  {
   "cell_type": "markdown",
   "metadata": {},
   "source": [
    "### Review of partner code\n"
   ]
  },
  {
   "cell_type": "code",
   "execution_count": null,
   "metadata": {},
   "outputs": [],
   "source": [
    "# Your answer here\n",
    "#I believe part 2 of the solution that is used to create the root could have been simplified to the following:\n",
    "#root = Node(1)\n",
    "#root.left = Node(2)\n",
    "#root.right = Node(3)\n",
    "#root.left.left = Node(4)\n",
    "#root.left.right = Node(5)\n",
    "#root.right.left = Node(6)\n",
    "#For the recursion logic I think based on what was presented in class the solution logic makes sense.  I'm not as familiar with Python so I don't \n",
    "#know the 2 libraires that were used, collections and typing.  Judging from the code structure and commenting, my partner is a proficient coder in \n",
    "#python.  I have nothing to adjust in this section of the code."
   ]
  },
  {
   "cell_type": "markdown",
   "metadata": {},
   "source": [
    "\n",
    "## Part 3:\n",
    "\n",
    "Please write a 200 word reflection documenting your process from assignment 1, and your presentation and review experience with your partner at the bottom of the Jupyter Notebook under a new heading \"Reflection.\" Again, export this Notebook as pdf.\n"
   ]
  },
  {
   "cell_type": "markdown",
   "metadata": {},
   "source": [
    "### Reflection"
   ]
  },
  {
   "cell_type": "code",
   "execution_count": null,
   "metadata": {},
   "outputs": [],
   "source": [
    "# Your answer here\n",
    "###This was a new topic for me so the completion of assignment 1 required reviewing the lecture and notes and doing additional learning on mine own.  I \n",
    "# found copilot to be an excellent tutor to help with topics I could not understand.  I was able to work through the problem for assignment 1 once I \n",
    "# was able to build up my knowledge on the subject.  Problem 1 was easier for me to implement because it did not require recursion which I’m not strong \n",
    "# at yet.  Reviewing my partners code was helpful to see a more advanced coding of the solution to problem 2.  It was beneficial to review the code \n",
    "# because it was commented well.  I will need to go back and do problems 2 and 3 to better my knowledge of the subject.   This assignment was a good \n",
    "# practice on how to review code from an efficiency lens rather than logic.  The advantage of looking at my partners solution was that it helped me \n",
    "# with recursion.  I’m still trying to wrap my head around the topic and working through another solution was beneficial.  \n",
    "# I also appreciate the benefit of providing clear comments to allow someone else to understand.\n",
    "###"
   ]
  },
  {
   "cell_type": "markdown",
   "metadata": {},
   "source": [
    "\n",
    "## Evaluation Criteria\n",
    "\n",
    "We are looking for the similar points as Assignment 1\n",
    "\n",
    "-   Problem is accurately stated\n",
    "\n",
    "-   New example is correct and easily understandable\n",
    "\n",
    "-   Correctness, time, and space complexity of the coding solution\n",
    "\n",
    "-   Clarity in explaining why the solution works, its time and space complexity\n",
    "\n",
    "-   Quality of critique of your partner's assignment, if necessary\n"
   ]
  },
  {
   "cell_type": "markdown",
   "metadata": {},
   "source": [
    "## Submission Information\n",
    "\n",
    "🚨 **Please review our [Assignment Submission Guide](https://github.com/UofT-DSI/onboarding/blob/main/onboarding_documents/submissions.md)** 🚨 for detailed instructions on how to format, branch, and submit your work. Following these guidelines is crucial for your submissions to be evaluated correctly.\n",
    "\n",
    "### Submission Parameters:\n",
    "* Submission Due Date: `HH:MM AM/PM - DD/MM/YYYY`\n",
    "* The branch name for your repo should be: `assignment-2`\n",
    "* What to submit for this assignment:\n",
    "    * This Jupyter Notebook (assignment_2.ipynb) should be populated and should be the only change in your pull request.\n",
    "* What the pull request link should look like for this assignment: `https://github.com/<your_github_username>/algorithms_and_data_structures/pull/<pr_id>`\n",
    "    * Open a private window in your browser. Copy and paste the link to your pull request into the address bar. Make sure you can see your pull request properly. This helps the technical facilitator and learning support staff review your submission easily.\n",
    "\n",
    "Checklist:\n",
    "- [ ] Created a branch with the correct naming convention.\n",
    "- [ ] Ensured that the repository is public.\n",
    "- [ ] Reviewed the PR description guidelines and adhered to them.\n",
    "- [ ] Verify that the link is accessible in a private browser window.\n",
    "\n",
    "If you encounter any difficulties or have questions, please don't hesitate to reach out to our team via our Slack at `#cohort-3-help`. Our Technical Facilitators and Learning Support staff are here to help you navigate any challenges.\n"
   ]
  }
 ],
 "metadata": {
  "kernelspec": {
   "display_name": "dsi_participant",
   "language": "python",
   "name": "python3"
  },
  "language_info": {
   "codemirror_mode": {
    "name": "ipython",
    "version": 3
   },
   "file_extension": ".py",
   "mimetype": "text/x-python",
   "name": "python",
   "nbconvert_exporter": "python",
   "pygments_lexer": "ipython3",
   "version": "3.9.20"
  }
 },
 "nbformat": 4,
 "nbformat_minor": 2
}
